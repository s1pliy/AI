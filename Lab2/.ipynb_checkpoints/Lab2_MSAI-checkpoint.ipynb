{
 "cells": [
  {
   "cell_type": "code",
   "execution_count": 11,
   "id": "2b221115-c78b-4bc3-9b57-ec4cc9797f25",
   "metadata": {},
   "outputs": [
    {
     "name": "stdout",
     "output_type": "stream",
     "text": [
      " Генерація випадкового набору даних\n",
      "Генерація даних за допомогою Numpy завершена\n",
      "Масив ознак (X) має розмірність: (1000, 5)\n",
      "Вектор цільової змінної (y) має розмірність: (1000,)\n",
      "Діапазон значень X: від 0.00 до 10.00\n",
      "Діапазон значень y: від -17.28 до 99.79\n"
     ]
    }
   ],
   "source": [
    "import numpy as np\n",
    "import matplotlib.pyplot as plt\n",
    "# Генерація випадкового набору даних (1000 значень)\n",
    "print(\" Генерація випадкового набору даних\")\n",
    "\n",
    "# Задаємо параметри для генерації даних\n",
    "N_SAMPLES = 1000  # Кількість зразків\n",
    "N_FEATURES = 5    # Кількість ознак\n",
    "NOISE_LEVEL = 10  # Рівень шуму\n",
    "\n",
    "# Встановлюємо \"зерно\" для відтворюваності результату \n",
    "np.random.seed(33)\n",
    "\n",
    "# 1. Генерація ознак (X)\n",
    "X = np.random.rand(N_SAMPLES, N_FEATURES) * 10 \n",
    "\n",
    "# 2. Створення \"справжніх\" коефіцієнтів (ваг) для лінійної моделі\n",
    "true_weights = np.array([3.0, -1.5, 0.5, 2.0, 4.0])\n",
    "\n",
    "# 3. Генерація цільової змінної (y)\n",
    "noise = np.random.randn(N_SAMPLES) * NOISE_LEVEL\n",
    "y = X.dot(true_weights) + noise\n",
    "\n",
    "print(\"Генерація даних за допомогою Numpy завершена\")\n",
    "print(f\"Масив ознак (X) має розмірність: {X.shape}\")\n",
    "print(f\"Вектор цільової змінної (y) має розмірність: {y.shape}\")\n",
    "print(f\"Діапазон значень X: від {X.min():.2f} до {X.max():.2f}\")\n",
    "print(f\"Діапазон значень y: від {y.min():.2f} до {y.max():.2f}\")"
   ]
  },
  {
   "cell_type": "code",
   "execution_count": 13,
   "id": "ca1a6a75-57b8-4c92-9110-d8dd469694ae",
   "metadata": {},
   "outputs": [
    {
     "name": "stdout",
     "output_type": "stream",
     "text": [
      "Нормалізація значень (Z-score)\n",
      "Нормалізація даних завершена\n",
      "До нормалізації:   середнє = [5.11706575 5.05569798 4.98247298 5.0197646  4.88482902], std = [2.8855248  2.86929357 2.89134861 2.83958163 2.91567357]\n",
      "Після нормалізації: середнє = 0.0000, std = 1.0000\n"
     ]
    }
   ],
   "source": [
    "#  Нормалізація значень\n",
    "print(\"Нормалізація значень (Z-score)\")\n",
    "\n",
    "def normalize(X):\n",
    "    mean = X.mean(axis=0)\n",
    "    std = X.std(axis=0)\n",
    "    std[std == 0] = 1\n",
    "    return (X - mean) / std, mean, std\n",
    "\n",
    "X_normalized, mean_X, std_X = normalize(X)\n",
    "\n",
    "print(\"Нормалізація даних завершена\")\n",
    "print(f\"До нормалізації:   середнє = {mean_X}, std = {std_X}\")\n",
    "print(f\"Після нормалізації: середнє = {X_normalized.mean():.4f}, std = {X_normalized.std():.4f}\")"
   ]
  },
  {
   "cell_type": "code",
   "execution_count": 14,
   "id": "283cdcef-7ff1-40b6-80c8-10b5184b8769",
   "metadata": {},
   "outputs": [
    {
     "name": "stdout",
     "output_type": "stream",
     "text": [
      "Розділення на навчальну та тестову вибірки\n",
      "Навчальна вибірка: 700 зразків\n",
      "Тестова вибірка: 300 зразків\n"
     ]
    }
   ],
   "source": [
    "# Розділення на навчальну та тестову вибірки\n",
    "print(\"Розділення на навчальну та тестову вибірки\")\n",
    "\n",
    "TEST_SIZE = 0.3\n",
    "\n",
    "# Перемішуємо індекси для випадкового розділення\n",
    "N = len(X_normalized)\n",
    "indices = np.arange(N)\n",
    "np.random.seed(33)\n",
    "np.random.shuffle(indices)\n",
    "\n",
    "# Розраховуємо індекс, до якого йде навчальна вибірка\n",
    "train_end_idx = int((1 - TEST_SIZE) * N)\n",
    "\n",
    "# Розділяємо індекси\n",
    "train_indices = indices[:train_end_idx]\n",
    "test_indices = indices[train_end_idx:]\n",
    "\n",
    "# Розділяємо дані X та y\n",
    "X_train = X_normalized[train_indices]\n",
    "y_train = y[train_indices]\n",
    "\n",
    "X_test = X_normalized[test_indices]\n",
    "y_test = y[test_indices]\n",
    "\n",
    "print(f\"Навчальна вибірка: {X_train.shape[0]} зразків\")\n",
    "print(f\"Тестова вибірка: {X_test.shape[0]} зразків\")"
   ]
  },
  {
   "cell_type": "code",
   "execution_count": 17,
   "id": "85ed8b99-ec32-47d3-9511-a5d47f5dfe14",
   "metadata": {},
   "outputs": [
    {
     "name": "stdout",
     "output_type": "stream",
     "text": [
      "Функція Евклідової відстані реалізована\n"
     ]
    }
   ],
   "source": [
    "# Функція для обчислення Евклідової відстані між двома векторами\n",
    "def euclidean_distance(point1, point2):\n",
    "    return np.sqrt(np.sum((point1 - point2) ** 2))\n",
    "    \n",
    "print(\"Функція Евклідової відстані реалізована\")"
   ]
  },
  {
   "cell_type": "code",
   "execution_count": 18,
   "id": "7d49326c-bc5c-4459-9d87-65c8c3acc72f",
   "metadata": {},
   "outputs": [
    {
     "name": "stdout",
     "output_type": "stream",
     "text": [
      "Функція пошуку найближчих сусідів реалізована\n",
      "Функції KNN-регресора реалізовані\n"
     ]
    }
   ],
   "source": [
    "# Функція, яка повертає індекси K найближчих сусідів\n",
    "def get_neighbors(X_train, y_train, test_point, k):\n",
    "    distances = []\n",
    "    \n",
    "    # Ітеруємо по кожній точці в навчальній вибірці\n",
    "    for i in range(len(X_train)):\n",
    "        train_point = X_train[i]\n",
    "        \n",
    "        # Обчислюємо відстань\n",
    "        dist = euclidean_distance(test_point, train_point)\n",
    "        \n",
    "        # Зберігаємо відстань та індекс точки\n",
    "        distances.append((dist, i))\n",
    "    \n",
    "    # Сортуємо за відстанню\n",
    "    distances.sort(key=lambda x: x[0])\n",
    "    \n",
    "    # Отримуємо індекси K найближчих сусідів\n",
    "    neighbor_indices = [item[1] for item in distances[:k]]\n",
    "    \n",
    "    # Повертаємо цільові значення (y) для цих сусідів\n",
    "    return y_train[neighbor_indices]\n",
    "\n",
    "print(\"Функція пошуку найближчих сусідів реалізована\")\n",
    "\n",
    "# Функція прогнозування для однієї точки\n",
    "def predict_knn_regression(X_train, y_train, test_point, k):\n",
    "    k_nearest_targets = get_neighbors(X_train, y_train, test_point, k)\n",
    "    prediction = np.mean(k_nearest_targets)\n",
    "    return prediction\n",
    "\n",
    "# Функція для прогнозування всієї тестової вибірки\n",
    "def test_model(X_train, y_train, X_test, k):\n",
    "    predictions = [\n",
    "        predict_knn_regression(X_train, y_train, test_point, k)\n",
    "        for test_point in X_test\n",
    "    ]\n",
    "    return np.array(predictions)\n",
    "\n",
    "print(\"Функції KNN-регресора реалізовані\")"
   ]
  },
  {
   "cell_type": "code",
   "execution_count": 26,
   "id": "224f8b15-7dee-4e7a-ab77-0cb0a556119e",
   "metadata": {},
   "outputs": [
    {
     "name": "stdout",
     "output_type": "stream",
     "text": [
      "Навчання KNN-регресора з різними значеннями K\n",
      "Початок навчання моделей...\n",
      "\n",
      "Результати навчання для різних K:\n",
      "------------------------------\n",
      " K |   MSE   \n",
      "------------------------------\n",
      " 1 |  225.10\n",
      " 2 |  192.82\n",
      " 3 |  158.75\n",
      " 4 |  151.34\n",
      " 5 |  140.35\n",
      " 6 |  139.77\n",
      " 7 |  139.62\n",
      " 8 |  138.64\n",
      " 9 |  138.61\n",
      "10 |  135.45\n",
      "11 |  134.16\n",
      "12 |  131.50\n",
      "13 |  132.53\n",
      "14 |  132.93\n",
      "15 |  132.52\n",
      "16 |  132.15\n",
      "17 |  130.84\n",
      "18 |  132.13\n",
      "19 |  131.04\n",
      "20 |  129.92\n",
      "21 |  131.32\n",
      "22 |  131.71\n",
      "------------------------------\n",
      "Навчання завершено для K від 1 до 22\n",
      "Вибір оптимального значення K\n",
      "Аналіз якості моделей завершено\n",
      "\n",
      "--- Результати вибору оптимального K ---\n",
      "Найкраще значення K: 20\n",
      "Найкращий MSE на тестовій вибірці: 129.92\n"
     ]
    }
   ],
   "source": [
    "# Навчання KNN-регресора з різними значеннями K\n",
    "print(\"Навчання KNN-регресора з різними значеннями K\")\n",
    "\n",
    "# Функція для обчислення Середньої Квадратичної Помилки (MSE)\n",
    "def mean_squared_error(y_true, y_pred):\n",
    "    return np.mean((y_true - y_pred) ** 2)\n",
    "\n",
    "# Діапазон значень K для тестування\n",
    "K_values = range(1, 23)\n",
    "results = {}\n",
    "\n",
    "print(\"Початок навчання моделей...\")\n",
    "print(\"\\nРезультати навчання для різних K:\")\n",
    "print(\"-\" * 30)\n",
    "print(\" K |   MSE   \")\n",
    "print(\"-\" * 30)\n",
    "\n",
    "for k in K_values:\n",
    "    # Прогноз на тестовій вибірці для поточного K\n",
    "    y_pred = test_model(X_train, y_train, X_test, k)\n",
    "    \n",
    "    # Обчислення MSE\n",
    "    mse = mean_squared_error(y_test, y_pred)\n",
    "    \n",
    "    # Зберігаємо результат\n",
    "    results[k] = mse\n",
    "    \n",
    "    print(f\"{k:2d} | {mse:7.2f}\")\n",
    "\n",
    "# Вибір оптимального K\n",
    "best_k = min(results, key=results.get)\n",
    "best_mse = results[best_k]\n",
    "\n",
    "print(\"-\" * 30)\n",
    "print(f\"Навчання завершено для K від 1 до {max(K_values)}\")\n",
    "\n",
    "# Вибір оптимального значення K\n",
    "print(\"Вибір оптимального значення K\")\n",
    "\n",
    "print(\"Аналіз якості моделей завершено\")\n",
    "print(f\"\\n--- Результати вибору оптимального K ---\")\n",
    "print(f\"Найкраще значення K: {best_k}\")\n",
    "print(f\"Найкращий MSE на тестовій вибірці: {best_mse:.2f}\")"
   ]
  },
  {
   "cell_type": "code",
   "execution_count": 27,
   "id": "c671d0a6-79ec-41f7-acd5-63c0a4a42c5c",
   "metadata": {},
   "outputs": [
    {
     "name": "stdout",
     "output_type": "stream",
     "text": [
      "Візуалізація залежності MSE від K\n",
      "Побудова графіка\n"
     ]
    },
    {
     "data": {
      "image/png": "[encoded data removed]",
      "text/plain": [
       "<Figure size 1200x700 with 1 Axes>"
      ]
     },
     "metadata": {},
     "output_type": "display_data"
    }
   ],
   "source": [
    "#  Візуалізація залежності MSE від K\n",
    "print(\"Візуалізація залежності MSE від K\")\n",
    "\n",
    "print(\"Побудова графіка\")\n",
    "\n",
    "# Підготовка даних для візуалізації\n",
    "k_list = list(results.keys())\n",
    "mse_list = list(results.values())\n",
    "\n",
    "plt.figure(figsize=(12, 7))\n",
    "plt.plot(k_list, mse_list, marker='o', linestyle='-', color='b', linewidth=2, markersize=6)\n",
    "\n",
    "# Позначення найкращого K\n",
    "plt.axvline(x=best_k, color='r', linestyle='--', linewidth=2, label=f'Оптимальне K = {best_k}')\n",
    "plt.scatter(best_k, best_mse, color='red', s=100, zorder=5)\n",
    "\n",
    "plt.title('Залежність MSE від K (seed=33)', fontsize=14, fontweight='bold')\n",
    "plt.xlabel('Значення K (кількість сусідів)', fontsize=12)\n",
    "plt.ylabel('MSE на тестовій вибірці', fontsize=12)\n",
    "plt.xticks(k_list)\n",
    "plt.grid(True, alpha=0.3)\n",
    "plt.legend(fontsize=12)\n",
    "\n",
    "plt.tight_layout()\n",
    "plt.show()"
   ]
  },
  {
   "cell_type": "code",
   "execution_count": null,
   "id": "3676a809-299f-4561-874e-67a7ab210d26",
   "metadata": {},
   "outputs": [],
   "source": []
  }
 ],
 "metadata": {
  "kernelspec": {
   "display_name": "Python [conda env:base] *",
   "language": "python",
   "name": "conda-base-py"
  },
  "language_info": {
   "codemirror_mode": {
    "name": "ipython",
    "version": 3
   },
   "file_extension": ".py",
   "mimetype": "text/x-python",
   "name": "python",
   "nbconvert_exporter": "python",
   "pygments_lexer": "ipython3",
   "version": "3.13.5"
  }
 },
 "nbformat": 4,
 "nbformat_minor": 5
}
